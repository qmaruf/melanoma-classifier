{
 "cells": [
  {
   "cell_type": "code",
   "execution_count": 1,
   "metadata": {},
   "outputs": [],
   "source": [
    "import sys\n",
    "sys.path.insert(0, '../src/')\n",
    "from collections import Counter\n",
    "import os\n",
    "import numpy as np \n",
    "import pandas\n",
    "import torch\n",
    "import pytorch_lightning as pl\n",
    "from torchvision import models, transforms\n",
    "from config_file import config\n",
    "import albumentations as A \n",
    "from albumentations.pytorch import ToTensorV2\n",
    "from torch.utils.data.dataset import Dataset\n",
    "import pandas as pd\n",
    "from torch.utils.data import DataLoader\n",
    "from pytorch_lightning.callbacks import ModelCheckpoint, EarlyStopping\n",
    "import torch.nn as nn\n",
    "from torch.optim.lr_scheduler import ReduceLROnPlateau\n",
    "import matplotlib.pyplot as plt\n",
    "%matplotlib inline\n",
    "# to_pi"
   ]
  },
  {
   "cell_type": "code",
   "execution_count": 13,
   "metadata": {},
   "outputs": [],
   "source": [
    "args = {\n",
    "    'phase': 'train',\n",
    "    'sample': False\n",
    "}"
   ]
  },
  {
   "cell_type": "code",
   "execution_count": 2,
   "metadata": {},
   "outputs": [],
   "source": [
    "data = np.load(os.path.join(config['data_dir'], config['data_train']))"
   ]
  },
  {
   "cell_type": "code",
   "execution_count": 4,
   "metadata": {},
   "outputs": [],
   "source": [
    "checkpoint_callback = ModelCheckpoint(\n",
    "    filepath=os.getcwd(),\n",
    "    save_top_k=1,\n",
    "    verbose=True,\n",
    "    monitor='val_loss',\n",
    "    mode='min',\n",
    "    prefix=''\n",
    ")\n",
    "\n",
    "early_stop_callback = EarlyStopping(\n",
    "   monitor='val_loss',\n",
    "   min_delta=0.00,\n",
    "   patience=7,\n",
    "   verbose=False,\n",
    "   mode='min',\n",
    ")\n",
    "\n",
    "augmentations = {\n",
    "    'train':A.Compose([\n",
    "            A.HorizontalFlip(p = 0.5),\n",
    "            A.OneOf([\n",
    "            A.RandomContrast(),\n",
    "            A.RandomGamma(),\n",
    "            A.RandomBrightness()],\n",
    "            p = 0.5),            \n",
    "            A.Normalize(mean=config['mean'], std=config['std']),            \n",
    "            A.pytorch.ToTensor()],\n",
    "            p = 1),\n",
    "    'valid':A.Compose([            \n",
    "            A.Normalize(mean=config['mean'], std=config['std']),            \n",
    "            A.pytorch.ToTensor()],\n",
    "            p = 1)\n",
    "}"
   ]
  },
  {
   "cell_type": "code",
   "execution_count": 5,
   "metadata": {},
   "outputs": [],
   "source": [
    "class MelanomaDataset(Dataset):\n",
    "    def __init__(self, images, labels, transforms):\n",
    "        self.images = images\n",
    "        self.labels = labels\n",
    "        self.transforms = transforms\n",
    "        \n",
    "    def __getitem__(self, index):\n",
    "        image = self.images[index]\n",
    "        image = self.transforms(image=image)['image']\n",
    "        label = self.labels[index]*1.0\n",
    "        return image, label\n",
    "\n",
    "    def __len__(self):\n",
    "        return len(self.images)"
   ]
  },
  {
   "cell_type": "code",
   "execution_count": 6,
   "metadata": {},
   "outputs": [],
   "source": [
    "class MelanomaDetector(pl.LightningModule):\n",
    "    def __init__(self, train_dl, val_dl, test_dl, criterion):\n",
    "        super(MelanomaDetector, self).__init__()        \n",
    "        self.model = self.get_model()\n",
    "        self.criterion = criterion\n",
    "        self.learning_rate = 0.0001     \n",
    "        self.train_dl, self.val_dl, self.test_dl = train_dl, val_dl, test_dl\n",
    "\n",
    "    def get_model(self):\n",
    "        model = models.resnet50(pretrained=True)        \n",
    "        model.fc = nn.Linear(2048, 1)\n",
    "        return model\n",
    "        \n",
    "    def forward(self, x):\n",
    "        return self.model(x)\n",
    "\n",
    "    def training_step(self, batch, batch_nb):\n",
    "        x, y = batch\n",
    "        y_hat = self.forward(x).view(y.size())\n",
    "        loss = self.criterion(y_hat, y)\n",
    "        tensorboard_logs = {'train_loss': loss}\n",
    "        return {'loss': loss, 'log': tensorboard_logs}\n",
    "\n",
    "    def validation_step(self, batch, batch_nb):\n",
    "        x, y = batch\n",
    "        y_hat = self.forward(x).view(y.size())\n",
    "        return {'val_loss': self.criterion(y_hat, y)}\n",
    "\n",
    "    def validation_end(self, outputs):\n",
    "        avg_loss = torch.stack([x['val_loss'] for x in outputs]).mean()\n",
    "        tensorboard_logs = {'val_loss': avg_loss}\n",
    "        return {'avg_val_loss': avg_loss, 'log': tensorboard_logs}\n",
    "\n",
    "    def test_step(self, batch, batch_nb):\n",
    "        x, y = batch\n",
    "        y_hat = self.forward(x).view(y.size())\n",
    "        return {'test_loss': self.criterion(y_hat, y)}\n",
    "\n",
    "    def test_end(self, outputs):\n",
    "        avg_loss = torch.stack([x['test_loss'] for x in outputs]).mean()\n",
    "        logs = {'test_loss': avg_loss}\n",
    "        return {'avg_test_loss': avg_loss, 'log': logs, 'progress_bar': logs}\n",
    "\n",
    "    def configure_optimizers(self):\n",
    "        optimizer = torch.optim.Adam(self.parameters(), lr=self.learning_rate)\n",
    "        scheduler = ReduceLROnPlateau(optimizer, mode='min', factor=0.5,patience=3, verbose=True)\n",
    "        return {\"optimizer\": optimizer, \"lr_scheduler\": scheduler, \"monitor\": \"val_loss\"}\n",
    "        \n",
    "\n",
    "    def train_dataloader(self):\n",
    "        return self.train_dl\n",
    "\n",
    "    def val_dataloader(self):\n",
    "        return self.val_dl\n",
    "\n",
    "    def test_dataloader(self):\n",
    "        return self.test_dl"
   ]
  },
  {
   "cell_type": "code",
   "execution_count": 7,
   "metadata": {},
   "outputs": [],
   "source": [
    "def get_data_loader(train_imgs, train_lbls, valid_imgs, valid_lbls):\n",
    "    train_imgs = train_imgs[:100]\n",
    "    train_lbls = train_lbls[:100]\n",
    "    \n",
    "    valid_imgs = valid_imgs[:100]\n",
    "    valid_lbls = valid_lbls[:100]\n",
    "    \n",
    "    train_ds = MelanomaDataset(train_imgs, train_lbls, augmentations['train'])\n",
    "    train_dl = DataLoader(train_ds, batch_size=config['train_bs'], shuffle=True, num_workers=4)\n",
    "\n",
    "    valid_ds = MelanomaDataset(valid_imgs, valid_lbls, augmentations['valid'])\n",
    "    valid_dl = DataLoader(valid_ds, batch_size=config['val_bs'], shuffle=False, num_workers=4)\n",
    "\n",
    "    test_dl = valid_dl\n",
    "\n",
    "    return train_dl, valid_dl, test_dl"
   ]
  },
  {
   "cell_type": "code",
   "execution_count": 8,
   "metadata": {},
   "outputs": [],
   "source": [
    "def train(fold):\n",
    "    df = pd.read_csv(os.path.join(config['data_dir'], 'train_folds.csv'))\n",
    "    train_idx = df[df.kfold != fold].index.values\n",
    "    valid_idx = df[df.kfold == fold].index.values\n",
    "\n",
    "    train_imgs, train_lbls = data[train_idx], df['target'][train_idx].to_list()\n",
    "    valid_imgs, valid_lbls = data[valid_idx], df['target'][valid_idx].to_list()\n",
    "    \n",
    "    cnt = Counter(train_lbls)\n",
    "    pos_weight = torch.tensor(cnt[0]/cnt[1])\n",
    "    criterion = nn.BCEWithLogitsLoss(pos_weight=pos_weight)\n",
    "\n",
    "    train_dl, valid_dl, test_dl = get_data_loader(train_imgs, train_lbls, valid_imgs, valid_lbls)\n",
    "\n",
    "    model = MelanomaDetector(train_dl, valid_dl, test_dl, criterion)\n",
    "    trainer = pl.Trainer(max_epochs=config['epochs'],\n",
    "                        gpus=1, \n",
    "                        check_val_every_n_epoch=2,\n",
    "                        auto_lr_find=True,\n",
    "                        callbacks=[early_stop_callback, checkpoint_callback])    \n",
    "    trainer.fit(model)\n",
    "\n",
    "\n"
   ]
  },
  {
   "cell_type": "code",
   "execution_count": 9,
   "metadata": {},
   "outputs": [],
   "source": [
    "def get_data_loader(fold=0):\n",
    "    \n",
    "    df = pd.read_csv(os.path.join(config['data_dir'], 'train_folds.csv'))\n",
    "    train_idx = df[df.kfold != fold].index.values\n",
    "    valid_idx = df[df.kfold == fold].index.values\n",
    "\n",
    "    train_imgs, train_lbls = data[train_idx], df['target'][train_idx].to_list()\n",
    "    valid_imgs, valid_lbls = data[valid_idx], df['target'][valid_idx].to_list()\n",
    "    \n",
    "    if args['sample']:\n",
    "        train_imgs, train_lbls = train_imgs[:100], train_lbls[:100]\n",
    "        valid_imgs, valid_lbls = valid_imgs[:100], valid_lbls[:100]\n",
    "    \n",
    "    train_ds = MelanomaDataset(train_imgs, train_lbls, augmentations['train'])\n",
    "    train_dl = DataLoader(train_ds, batch_size=config['train_bs'], shuffle=True, num_workers=4)\n",
    "\n",
    "    valid_ds = MelanomaDataset(valid_imgs, valid_lbls, augmentations['valid'])\n",
    "    valid_dl = DataLoader(valid_ds, batch_size=config['val_bs'], shuffle=False, num_workers=4)\n",
    "    \n",
    "    test_dl = valid_dl\n",
    "\n",
    "    return train_dl, valid_dl, test_dl"
   ]
  },
  {
   "cell_type": "code",
   "execution_count": 16,
   "metadata": {},
   "outputs": [],
   "source": [
    "def train(fold):      \n",
    "    train_dl, valid_dl, test_dl = get_data_loader(fold)\n",
    "    cnt = Counter(train_dl.dataset.labels)\n",
    "    pos_weight = torch.tensor(cnt[0]/cnt[1])\n",
    "    criterion = nn.BCEWithLogitsLoss(pos_weight=pos_weight)\n",
    "\n",
    "    model = MelanomaDetector(train_dl, valid_dl, test_dl, criterion)\n",
    "    trainer = pl.Trainer(max_epochs=config['epochs'],\n",
    "                        gpus=1, \n",
    "                        check_val_every_n_epoch=2,\n",
    "                        auto_lr_find=True,\n",
    "                        callbacks=[early_stop_callback, checkpoint_callback])    \n",
    "    trainer.fit(model)"
   ]
  },
  {
   "cell_type": "code",
   "execution_count": 18,
   "metadata": {},
   "outputs": [
    {
     "name": "stderr",
     "output_type": "stream",
     "text": [
      "GPU available: True, used: True\n",
      "TPU available: False, using: 0 TPU cores\n",
      "LOCAL_RANK: 0 - CUDA_VISIBLE_DEVICES: [0]\n",
      "\n",
      "  | Name      | Type              | Params\n",
      "------------------------------------------------\n",
      "0 | model     | ResNet            | 23.5 M\n",
      "1 | criterion | BCEWithLogitsLoss | 0     \n"
     ]
    },
    {
     "data": {
      "application/vnd.jupyter.widget-view+json": {
       "model_id": "2ae3c178510c4af68d46ee6b5ec8d248",
       "version_major": 2,
       "version_minor": 0
      },
      "text/plain": [
       "HBox(children=(FloatProgress(value=1.0, bar_style='info', description='Validation sanity check', layout=Layout…"
      ]
     },
     "metadata": {},
     "output_type": "display_data"
    },
    {
     "data": {
      "application/vnd.jupyter.widget-view+json": {
       "model_id": "d738d2b81cf14b82b60c65bad1072560",
       "version_major": 2,
       "version_minor": 0
      },
      "text/plain": [
       "HBox(children=(FloatProgress(value=1.0, bar_style='info', description='Training', layout=Layout(flex='2'), max…"
      ]
     },
     "metadata": {},
     "output_type": "display_data"
    },
    {
     "name": "stderr",
     "output_type": "stream",
     "text": [
      "/home/quazi/venv3.6/lib/python3.6/site-packages/pytorch_lightning/utilities/distributed.py:45: UserWarning: The {log:dict keyword} was deprecated in 0.9.1 and will be removed in 1.0.0\n",
      "Please use self.log(...) inside the lightningModule instead.\n",
      "\n",
      "# log on a step or aggregate epoch metric to the logger and/or progress bar\n",
      "# (inside LightningModule)\n",
      "self.log('train_loss', loss, on_step=True, on_epoch=True, prog_bar=True)\n",
      "  warnings.warn(*args, **kwargs)\n",
      "/home/quazi/venv3.6/lib/python3.6/site-packages/pytorch_lightning/utilities/distributed.py:45: UserWarning: Detected KeyboardInterrupt, attempting graceful shutdown...\n",
      "  warnings.warn(*args, **kwargs)\n",
      "Epoch 0: val_loss was not in top 1\n"
     ]
    },
    {
     "name": "stdout",
     "output_type": "stream",
     "text": [
      "\n"
     ]
    }
   ],
   "source": [
    "train(0)"
   ]
  },
  {
   "cell_type": "code",
   "execution_count": null,
   "metadata": {},
   "outputs": [],
   "source": []
  }
 ],
 "metadata": {
  "kernelspec": {
   "display_name": "venv3.6",
   "language": "python",
   "name": "venv3.6"
  },
  "language_info": {
   "codemirror_mode": {
    "name": "ipython",
    "version": 3
   },
   "file_extension": ".py",
   "mimetype": "text/x-python",
   "name": "python",
   "nbconvert_exporter": "python",
   "pygments_lexer": "ipython3",
   "version": "3.6.8"
  }
 },
 "nbformat": 4,
 "nbformat_minor": 4
}
